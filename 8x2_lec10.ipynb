{
 "cells": [
  {
   "cell_type": "code",
   "execution_count": 1,
   "metadata": {},
   "outputs": [],
   "source": [
    "from datascience import *\n",
    "import numpy as np\n",
    "\n",
    "import matplotlib.pyplot as plots\n",
    "plots.style.use('fivethirtyeight')\n",
    "%matplotlib inline"
   ]
  },
  {
   "cell_type": "markdown",
   "metadata": {},
   "source": [
    "## Percentiles"
   ]
  },
  {
   "cell_type": "markdown",
   "metadata": {},
   "source": [
    "**Please run all cells before this cell, including the import cell at the top of the notebook.**"
   ]
  },
  {
   "cell_type": "code",
   "execution_count": 2,
   "metadata": {},
   "outputs": [
    {
     "data": {
      "text/plain": [
       "[1, 7, 3, 9, 5]"
      ]
     },
     "execution_count": 2,
     "metadata": {},
     "output_type": "execute_result"
    }
   ],
   "source": [
    "v = [1, 7, 3, 9, 5]\n",
    "v"
   ]
  },
  {
   "cell_type": "code",
   "execution_count": 3,
   "metadata": {},
   "outputs": [
    {
     "data": {
      "text/plain": [
       "3"
      ]
     },
     "execution_count": 3,
     "metadata": {},
     "output_type": "execute_result"
    }
   ],
   "source": [
    "percentile(25, v)"
   ]
  },
  {
   "cell_type": "code",
   "execution_count": 4,
   "metadata": {},
   "outputs": [
    {
     "data": {
      "text/plain": [
       "5"
      ]
     },
     "execution_count": 4,
     "metadata": {},
     "output_type": "execute_result"
    }
   ],
   "source": [
    "percentile(50, v)"
   ]
  },
  {
   "cell_type": "code",
   "execution_count": 5,
   "metadata": {},
   "outputs": [
    {
     "data": {
      "text/plain": [
       "9"
      ]
     },
     "execution_count": 5,
     "metadata": {},
     "output_type": "execute_result"
    }
   ],
   "source": [
    "percentile(99, v)"
   ]
  },
  {
   "cell_type": "markdown",
   "metadata": {},
   "source": [
    "## Estimation"
   ]
  },
  {
   "cell_type": "markdown",
   "metadata": {},
   "source": [
    "**Please run all cells before this cell, including the previous example cells and the import cell at the top of the notebook.**"
   ]
  },
  {
   "cell_type": "code",
   "execution_count": 11,
   "metadata": {},
   "outputs": [
    {
     "data": {
      "text/html": [
       "<table border=\"1\" class=\"dataframe\">\n",
       "    <thead>\n",
       "        <tr>\n",
       "            <th>Organization Group</th> <th>Job</th> <th>Total Compensation</th>\n",
       "        </tr>\n",
       "    </thead>\n",
       "    <tbody>\n",
       "        <tr>\n",
       "            <td>Public Works, Transportation & Commerce</td> <td>Water Qualitytech I/II     </td> <td>117,767           </td>\n",
       "        </tr>\n",
       "        <tr>\n",
       "            <td>Public Works, Transportation & Commerce</td> <td>Soft Floor Coverer         </td> <td>41,210            </td>\n",
       "        </tr>\n",
       "        <tr>\n",
       "            <td>Community Health                       </td> <td>Health Care Billing Clerk 2</td> <td>110,561           </td>\n",
       "        </tr>\n",
       "    </tbody>\n",
       "</table>\n",
       "<p>... (38214 rows omitted)</p>"
      ],
      "text/plain": [
       "<IPython.core.display.HTML object>"
      ]
     },
     "metadata": {},
     "output_type": "display_data"
    }
   ],
   "source": [
    "sf = Table.read_table('san_francisco_2015.csv').select(3, 11, 21)\n",
    "sf.set_format('Total Compensation', NumberFormatter(0))\n",
    "sf = sf.where('Total Compensation', are.above(10000))\n",
    "sf.show(3)"
   ]
  },
  {
   "cell_type": "code",
   "execution_count": 12,
   "metadata": {},
   "outputs": [
    {
     "data": {
      "text/html": [
       "<table border=\"1\" class=\"dataframe\">\n",
       "    <thead>\n",
       "        <tr>\n",
       "            <th>Organization Group</th> <th>Job</th> <th>Total Compensation</th>\n",
       "        </tr>\n",
       "    </thead>\n",
       "    <tbody>\n",
       "        <tr>\n",
       "            <td>Human Welfare & Neighborhood Development</td> <td>Public Service Trainee        </td> <td>10,002            </td>\n",
       "        </tr>\n",
       "        <tr>\n",
       "            <td>Community Health                        </td> <td>Special Nurse                 </td> <td>10,003            </td>\n",
       "        </tr>\n",
       "        <tr>\n",
       "            <td>Public Works, Transportation & Commerce </td> <td>Publ Svc Aide-Asst To Prof    </td> <td>10,004            </td>\n",
       "        </tr>\n",
       "        <tr>\n",
       "            <td>Human Welfare & Neighborhood Development</td> <td>Public Svc Aide-Public Works  </td> <td>10,006            </td>\n",
       "        </tr>\n",
       "        <tr>\n",
       "            <td>Public Protection                       </td> <td>EMT Paramedic                 </td> <td>10,009            </td>\n",
       "        </tr>\n",
       "        <tr>\n",
       "            <td>Public Works, Transportation & Commerce </td> <td>Stdntdsgntrain1, Arch/Eng/Plng</td> <td>10,010            </td>\n",
       "        </tr>\n",
       "        <tr>\n",
       "            <td>Human Welfare & Neighborhood Development</td> <td>Public Service Trainee        </td> <td>10,010            </td>\n",
       "        </tr>\n",
       "        <tr>\n",
       "            <td>General Administration & Finance        </td> <td>Communications Systems Tech   </td> <td>10,014            </td>\n",
       "        </tr>\n",
       "        <tr>\n",
       "            <td>Community Health                        </td> <td>Patient Care Assistant        </td> <td>10,015            </td>\n",
       "        </tr>\n",
       "        <tr>\n",
       "            <td>Public Works, Transportation & Commerce </td> <td>Publ Svc Aide-Asst To Prof    </td> <td>10,017            </td>\n",
       "        </tr>\n",
       "    </tbody>\n",
       "</table>\n",
       "<p>... (38207 rows omitted)</p>"
      ],
      "text/plain": [
       "Organization Group                       | Job                            | Total Compensation\n",
       "Human Welfare & Neighborhood Development | Public Service Trainee         | 10,002\n",
       "Community Health                         | Special Nurse                  | 10,003\n",
       "Public Works, Transportation & Commerce  | Publ Svc Aide-Asst To Prof     | 10,004\n",
       "Human Welfare & Neighborhood Development | Public Svc Aide-Public Works   | 10,006\n",
       "Public Protection                        | EMT Paramedic                  | 10,009\n",
       "Public Works, Transportation & Commerce  | Stdntdsgntrain1, Arch/Eng/Plng | 10,010\n",
       "Human Welfare & Neighborhood Development | Public Service Trainee         | 10,010\n",
       "General Administration & Finance         | Communications Systems Tech    | 10,014\n",
       "Community Health                         | Patient Care Assistant         | 10,015\n",
       "Public Works, Transportation & Commerce  | Publ Svc Aide-Asst To Prof     | 10,017\n",
       "... (38207 rows omitted)"
      ]
     },
     "execution_count": 12,
     "metadata": {},
     "output_type": "execute_result"
    }
   ],
   "source": [
    "sf.sort('Total Compensation')"
   ]
  },
  {
   "cell_type": "code",
   "execution_count": 13,
   "metadata": {},
   "outputs": [
    {
     "data": {
      "text/html": [
       "<table border=\"1\" class=\"dataframe\">\n",
       "    <thead>\n",
       "        <tr>\n",
       "            <th>Organization Group</th> <th>Job</th> <th>Total Compensation</th>\n",
       "        </tr>\n",
       "    </thead>\n",
       "    <tbody>\n",
       "        <tr>\n",
       "            <td>General Administration & Finance       </td> <td>Chief Investment Officer   </td> <td>648,875           </td>\n",
       "        </tr>\n",
       "        <tr>\n",
       "            <td>General Administration & Finance       </td> <td>Asst Med Examiner          </td> <td>480,509           </td>\n",
       "        </tr>\n",
       "        <tr>\n",
       "            <td>General Administration & Finance       </td> <td>Asst Med Examiner          </td> <td>427,219           </td>\n",
       "        </tr>\n",
       "        <tr>\n",
       "            <td>Public Works, Transportation & Commerce</td> <td>Dept Head V                </td> <td>426,686           </td>\n",
       "        </tr>\n",
       "        <tr>\n",
       "            <td>Community Health                       </td> <td>Adm, SFGH Medical Center   </td> <td>422,800           </td>\n",
       "        </tr>\n",
       "        <tr>\n",
       "            <td>Public Protection                      </td> <td>Chief, Fire Department     </td> <td>418,844           </td>\n",
       "        </tr>\n",
       "        <tr>\n",
       "            <td>Public Works, Transportation & Commerce</td> <td>Executive Contract Employee</td> <td>417,848           </td>\n",
       "        </tr>\n",
       "        <tr>\n",
       "            <td>Community Health                       </td> <td>Senior Physician Specialist</td> <td>415,457           </td>\n",
       "        </tr>\n",
       "        <tr>\n",
       "            <td>Public Protection                      </td> <td>Chief Of Police            </td> <td>414,791           </td>\n",
       "        </tr>\n",
       "        <tr>\n",
       "            <td>Public Works, Transportation & Commerce</td> <td>Gen Mgr, Public Trnsp Dept </td> <td>405,050           </td>\n",
       "        </tr>\n",
       "    </tbody>\n",
       "</table>\n",
       "<p>... (38207 rows omitted)</p>"
      ],
      "text/plain": [
       "Organization Group                      | Job                         | Total Compensation\n",
       "General Administration & Finance        | Chief Investment Officer    | 648,875\n",
       "General Administration & Finance        | Asst Med Examiner           | 480,509\n",
       "General Administration & Finance        | Asst Med Examiner           | 427,219\n",
       "Public Works, Transportation & Commerce | Dept Head V                 | 426,686\n",
       "Community Health                        | Adm, SFGH Medical Center    | 422,800\n",
       "Public Protection                       | Chief, Fire Department      | 418,844\n",
       "Public Works, Transportation & Commerce | Executive Contract Employee | 417,848\n",
       "Community Health                        | Senior Physician Specialist | 415,457\n",
       "Public Protection                       | Chief Of Police             | 414,791\n",
       "Public Works, Transportation & Commerce | Gen Mgr, Public Trnsp Dept  | 405,050\n",
       "... (38207 rows omitted)"
      ]
     },
     "execution_count": 13,
     "metadata": {},
     "output_type": "execute_result"
    }
   ],
   "source": [
    "sf.sort('Total Compensation', descending=True)"
   ]
  },
  {
   "cell_type": "code",
   "execution_count": 14,
   "metadata": {},
   "outputs": [
    {
     "data": {
      "image/png": "[encoded data removed]",
      "text/plain": [
       "<Figure size 432x288 with 1 Axes>"
      ]
     },
     "metadata": {
      "needs_background": "light"
     },
     "output_type": "display_data"
    }
   ],
   "source": [
    "comp_bins = np.arange(0, 700000, 25000)\n",
    "sf.hist('Total Compensation', bins=comp_bins, unit=\"dollar\")"
   ]
  },
  {
   "cell_type": "code",
   "execution_count": 17,
   "metadata": {},
   "outputs": [
    {
     "data": {
      "text/plain": [
       "107219.48"
      ]
     },
     "execution_count": 17,
     "metadata": {},
     "output_type": "execute_result"
    }
   ],
   "source": [
    "percentile(50, sf.column('Total Compensation'))"
   ]
  },
  {
   "cell_type": "code",
   "execution_count": 18,
   "metadata": {},
   "outputs": [
    {
     "data": {
      "text/html": [
       "<table border=\"1\" class=\"dataframe\">\n",
       "    <thead>\n",
       "        <tr>\n",
       "            <th>Organization Group</th> <th>Job</th> <th>Total Compensation</th>\n",
       "        </tr>\n",
       "    </thead>\n",
       "    <tbody>\n",
       "        <tr>\n",
       "            <td>Community Health  </td> <td>Hospital Eligiblity Worker</td> <td>110,718           </td>\n",
       "        </tr>\n",
       "        <tr>\n",
       "            <td>Public Protection </td> <td>Sergeant 2                </td> <td>42,111            </td>\n",
       "        </tr>\n",
       "        <tr>\n",
       "            <td>Public Protection </td> <td>Deputy Probation Officer  </td> <td>137,622           </td>\n",
       "        </tr>\n",
       "    </tbody>\n",
       "</table>\n",
       "<p>... (197 rows omitted)</p>"
      ],
      "text/plain": [
       "<IPython.core.display.HTML object>"
      ]
     },
     "metadata": {},
     "output_type": "display_data"
    }
   ],
   "source": [
    "sample_from_population = sf.sample(200, with_replacement=False)\n",
    "sample_from_population.show(3)"
   ]
  },
  {
   "cell_type": "code",
   "execution_count": 19,
   "metadata": {},
   "outputs": [
    {
     "data": {
      "text/plain": [
       "107435.08"
      ]
     },
     "execution_count": 19,
     "metadata": {},
     "output_type": "execute_result"
    }
   ],
   "source": [
    "percentile(50, sample_from_population.column('Total Compensation'))"
   ]
  },
  {
   "cell_type": "code",
   "execution_count": 20,
   "metadata": {},
   "outputs": [
    {
     "data": {
      "text/plain": [
       "107219.48"
      ]
     },
     "execution_count": 20,
     "metadata": {},
     "output_type": "execute_result"
    }
   ],
   "source": [
    "np.median(sf.column('Total Compensation'))"
   ]
  },
  {
   "cell_type": "code",
   "execution_count": 21,
   "metadata": {},
   "outputs": [
    {
     "data": {
      "text/plain": [
       "107768.20000000001"
      ]
     },
     "execution_count": 21,
     "metadata": {},
     "output_type": "execute_result"
    }
   ],
   "source": [
    "np.median(sample_from_population.column('Total Compensation'))"
   ]
  },
  {
   "cell_type": "code",
   "execution_count": 22,
   "metadata": {},
   "outputs": [
    {
     "data": {
      "image/png": "[encoded data removed]",
      "text/plain": [
       "<Figure size 360x360 with 1 Axes>"
      ]
     },
     "metadata": {
      "needs_background": "light"
     },
     "output_type": "display_data"
    }
   ],
   "source": [
    "medians = []\n",
    "repetitions = np.arange(100)\n",
    "for i in repetitions:\n",
    "    sample = sf.sample(200, with_replacement=False)\n",
    "    median = np.median(sample.column('Total Compensation'))\n",
    "    medians.append(median)\n",
    "    \n",
    "Table().with_columns('trial', repetitions, 'median', medians).scatter('trial')"
   ]
  },
  {
   "cell_type": "code",
   "execution_count": 23,
   "metadata": {},
   "outputs": [
    {
     "data": {
      "image/png": "[encoded data removed]",
      "text/plain": [
       "<Figure size 432x288 with 1 Axes>"
      ]
     },
     "metadata": {
      "needs_background": "light"
     },
     "output_type": "display_data"
    }
   ],
   "source": [
    "Table().with_column('medians', medians).hist(0)"
   ]
  },
  {
   "cell_type": "markdown",
   "metadata": {},
   "source": [
    "## The Bootstrap"
   ]
  },
  {
   "cell_type": "markdown",
   "metadata": {},
   "source": [
    "**Please run all cells before this cell, including the previous example cells and the import cell at the top of the notebook.**"
   ]
  },
  {
   "cell_type": "code",
   "execution_count": 24,
   "metadata": {},
   "outputs": [
    {
     "data": {
      "text/html": [
       "<table border=\"1\" class=\"dataframe\">\n",
       "    <thead>\n",
       "        <tr>\n",
       "            <th>Organization Group</th> <th>Job</th> <th>Total Compensation</th>\n",
       "        </tr>\n",
       "    </thead>\n",
       "    <tbody>\n",
       "        <tr>\n",
       "            <td>Public Protection                      </td> <td>Police Officer 2          </td> <td>130,936           </td>\n",
       "        </tr>\n",
       "        <tr>\n",
       "            <td>Public Works, Transportation & Commerce</td> <td>Street Inspector          </td> <td>43,513            </td>\n",
       "        </tr>\n",
       "        <tr>\n",
       "            <td>Community Health                       </td> <td>Hospital Eligiblity Worker</td> <td>96,491            </td>\n",
       "        </tr>\n",
       "    </tbody>\n",
       "</table>\n",
       "<p>... (197 rows omitted)</p>"
      ],
      "text/plain": [
       "<IPython.core.display.HTML object>"
      ]
     },
     "metadata": {},
     "output_type": "display_data"
    }
   ],
   "source": [
    "sample_from_population = sf.sample(200, with_replacement=False)\n",
    "sample_from_population.show(3)"
   ]
  },
  {
   "cell_type": "code",
   "execution_count": 25,
   "metadata": {},
   "outputs": [
    {
     "data": {
      "text/plain": [
       "109026.845"
      ]
     },
     "execution_count": 25,
     "metadata": {},
     "output_type": "execute_result"
    }
   ],
   "source": [
    "np.median(sample_from_population.column('Total Compensation'))"
   ]
  },
  {
   "cell_type": "code",
   "execution_count": 26,
   "metadata": {},
   "outputs": [],
   "source": [
    "resample = sample_from_population.sample()"
   ]
  },
  {
   "cell_type": "code",
   "execution_count": 27,
   "metadata": {},
   "outputs": [
    {
     "data": {
      "text/plain": [
       "110578.495"
      ]
     },
     "execution_count": 27,
     "metadata": {},
     "output_type": "execute_result"
    }
   ],
   "source": [
    "np.median(resample.column('Total Compensation'))"
   ]
  },
  {
   "cell_type": "code",
   "execution_count": 28,
   "metadata": {},
   "outputs": [
    {
     "data": {
      "image/png": "[encoded data removed]",
      "text/plain": [
       "<Figure size 432x288 with 1 Axes>"
      ]
     },
     "metadata": {
      "needs_background": "light"
     },
     "output_type": "display_data"
    }
   ],
   "source": [
    "medians = []\n",
    "\n",
    "for i in np.arange(1000):\n",
    "    resample = sample_from_population.sample()\n",
    "    median = np.median(resample.column('Total Compensation'))\n",
    "    medians.append(median)\n",
    "    \n",
    "Table().with_column('Reampled median', medians).hist()"
   ]
  },
  {
   "cell_type": "code",
   "execution_count": 29,
   "metadata": {},
   "outputs": [
    {
     "data": {
      "text/plain": [
       "97761.89"
      ]
     },
     "execution_count": 29,
     "metadata": {},
     "output_type": "execute_result"
    }
   ],
   "source": [
    "percentile(2.5, medians)"
   ]
  },
  {
   "cell_type": "code",
   "execution_count": 30,
   "metadata": {},
   "outputs": [
    {
     "data": {
      "text/plain": [
       "114732.01"
      ]
     },
     "execution_count": 30,
     "metadata": {},
     "output_type": "execute_result"
    }
   ],
   "source": [
    "percentile(97.5, medians)"
   ]
  },
  {
   "cell_type": "markdown",
   "metadata": {},
   "source": [
    "95% confidnece internal range from 99761 and 114732. this is a range of where we might expect that media to lie "
   ]
  },
  {
   "cell_type": "code",
   "execution_count": 31,
   "metadata": {},
   "outputs": [
    {
     "data": {
      "text/plain": [
       "95320.58"
      ]
     },
     "execution_count": 31,
     "metadata": {},
     "output_type": "execute_result"
    }
   ],
   "source": [
    "percentile(0.5, medians)"
   ]
  },
  {
   "cell_type": "code",
   "execution_count": 32,
   "metadata": {},
   "outputs": [
    {
     "data": {
      "text/plain": [
       "116469.54000000001"
      ]
     },
     "execution_count": 32,
     "metadata": {},
     "output_type": "execute_result"
    }
   ],
   "source": [
    "percentile(99.5, medians)"
   ]
  },
  {
   "cell_type": "code",
   "execution_count": 33,
   "metadata": {},
   "outputs": [],
   "source": [
    "intervals = Table(['Lower', 'Upper'])\n",
    "\n",
    "for j in np.arange(100):\n",
    "    sample_from_population = sf.sample(200, with_replacement=False)\n",
    "    medians = []\n",
    "    for i in np.arange(1000):\n",
    "        resample = sample_from_population.sample()\n",
    "        median = np.median(resample.column('Total Compensation'))\n",
    "        medians.append(median)\n",
    "        \n",
    "    interval_95 = [percentile(2.5, medians),\n",
    "                   percentile(97.5, medians)]\n",
    "    \n",
    "    intervals.append(interval_95)"
   ]
  },
  {
   "cell_type": "code",
   "execution_count": 37,
   "metadata": {},
   "outputs": [
    {
     "data": {
      "text/html": [
       "<table border=\"1\" class=\"dataframe\">\n",
       "    <thead>\n",
       "        <tr>\n",
       "            <th>Lower</th> <th>Upper</th>\n",
       "        </tr>\n",
       "    </thead>\n",
       "    <tbody>\n",
       "        <tr>\n",
       "            <td>93297.5</td> <td>111506</td>\n",
       "        </tr>\n",
       "        <tr>\n",
       "            <td>103098 </td> <td>121908</td>\n",
       "        </tr>\n",
       "        <tr>\n",
       "            <td>98599.7</td> <td>115631</td>\n",
       "        </tr>\n",
       "        <tr>\n",
       "            <td>100448 </td> <td>116190</td>\n",
       "        </tr>\n",
       "        <tr>\n",
       "            <td>94929.5</td> <td>115025</td>\n",
       "        </tr>\n",
       "        <tr>\n",
       "            <td>99247.7</td> <td>119902</td>\n",
       "        </tr>\n",
       "        <tr>\n",
       "            <td>100632 </td> <td>116780</td>\n",
       "        </tr>\n",
       "        <tr>\n",
       "            <td>100825 </td> <td>117375</td>\n",
       "        </tr>\n",
       "        <tr>\n",
       "            <td>91458.9</td> <td>124484</td>\n",
       "        </tr>\n",
       "        <tr>\n",
       "            <td>97563.6</td> <td>116431</td>\n",
       "        </tr>\n",
       "    </tbody>\n",
       "</table>\n",
       "<p>... (90 rows omitted)</p>"
      ],
      "text/plain": [
       "Lower   | Upper\n",
       "93297.5 | 111506\n",
       "103098  | 121908\n",
       "98599.7 | 115631\n",
       "100448  | 116190\n",
       "94929.5 | 115025\n",
       "99247.7 | 119902\n",
       "100632  | 116780\n",
       "100825  | 117375\n",
       "91458.9 | 124484\n",
       "97563.6 | 116431\n",
       "... (90 rows omitted)"
      ]
     },
     "execution_count": 37,
     "metadata": {},
     "output_type": "execute_result"
    }
   ],
   "source": [
    "intervals"
   ]
  },
  {
   "cell_type": "code",
   "execution_count": 34,
   "metadata": {},
   "outputs": [
    {
     "data": {
      "text/plain": [
       "96"
      ]
     },
     "execution_count": 34,
     "metadata": {},
     "output_type": "execute_result"
    }
   ],
   "source": [
    "truth = np.median(sf.column('Total Compensation'))\n",
    "correct = intervals.where('Lower', are.not_above(truth)).where('Upper', are.not_below(truth))\n",
    "correct.num_rows"
   ]
  },
  {
   "cell_type": "code",
   "execution_count": 35,
   "metadata": {},
   "outputs": [
    {
     "data": {
      "text/html": [
       "<table border=\"1\" class=\"dataframe\">\n",
       "    <thead>\n",
       "        <tr>\n",
       "            <th>Lower</th> <th>Upper</th>\n",
       "        </tr>\n",
       "    </thead>\n",
       "    <tbody>\n",
       "        <tr>\n",
       "            <td>109306</td> <td>126079</td>\n",
       "        </tr>\n",
       "        <tr>\n",
       "            <td>112424</td> <td>133203</td>\n",
       "        </tr>\n",
       "    </tbody>\n",
       "</table>"
      ],
      "text/plain": [
       "Lower  | Upper\n",
       "109306 | 126079\n",
       "112424 | 133203"
      ]
     },
     "execution_count": 35,
     "metadata": {},
     "output_type": "execute_result"
    }
   ],
   "source": [
    "intervals.where('Lower', are.above(truth))"
   ]
  },
  {
   "cell_type": "code",
   "execution_count": 36,
   "metadata": {},
   "outputs": [
    {
     "data": {
      "text/html": [
       "<table border=\"1\" class=\"dataframe\">\n",
       "    <thead>\n",
       "        <tr>\n",
       "            <th>Lower</th> <th>Upper</th>\n",
       "        </tr>\n",
       "    </thead>\n",
       "    <tbody>\n",
       "        <tr>\n",
       "            <td>93209.1</td> <td>103803</td>\n",
       "        </tr>\n",
       "        <tr>\n",
       "            <td>88120.8</td> <td>104680</td>\n",
       "        </tr>\n",
       "    </tbody>\n",
       "</table>"
      ],
      "text/plain": [
       "Lower   | Upper\n",
       "93209.1 | 103803\n",
       "88120.8 | 104680"
      ]
     },
     "execution_count": 36,
     "metadata": {},
     "output_type": "execute_result"
    }
   ],
   "source": [
    "intervals.where('Upper', are.below(truth))"
   ]
  },
  {
   "cell_type": "code",
   "execution_count": null,
   "metadata": {},
   "outputs": [],
   "source": []
  }
 ],
 "metadata": {
  "kernelspec": {
   "display_name": "Python 3",
   "language": "python",
   "name": "python3"
  },
  "language_info": {
   "codemirror_mode": {
    "name": "ipython",
    "version": 3
   },
   "file_extension": ".py",
   "mimetype": "text/x-python",
   "name": "python",
   "nbconvert_exporter": "python",
   "pygments_lexer": "ipython3",
   "version": "3.7.3"
  }
 },
 "nbformat": 4,
 "nbformat_minor": 2
}
