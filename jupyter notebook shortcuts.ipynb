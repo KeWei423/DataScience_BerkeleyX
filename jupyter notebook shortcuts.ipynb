{
 "cells": [
  {
   "cell_type": "markdown",
   "metadata": {},
   "source": [
    "## Jupyter Notebook Shortcuts\n",
    "In the previous section, we talked about various actions we can do within a Jupyter Notebook. All of these actions required going to the Toolbar or the Menu at the top of the notebook. Doing this for every single action can be tiring, so luckily for us, there are a number of neat shortcuts to help us do the same actions.\n",
    "\n",
    "Some of these shortcuts require you to be in the Edit Mode or the Command Mode of a cell. Remember, you are in Edit Mode if you can see the pencil icon in the top right corner of the Menu. \n",
    "\n",
    "To activate command mode, press `Esc` and to activate Edit Mode, press `Enter`. \n",
    "\n",
    "Below the shortcuts are grouped based on what mode you are in."
   ]
  },
  {
   "cell_type": "markdown",
   "metadata": {},
   "source": [
    "#### Shortcuts for Both Modes\n",
    "* Run the current cell and select below: `Shift + Enter`\n",
    "* Run the selected cell: `Ctrl + Enter`\n",
    "* Run the current cell and insert cell below: `Alt + Enter`\n",
    "* Save and checkpoint: `Ctrl + S`\n",
    "\n",
    "\n",
    "#### Shortcuts while in Command Mode\n",
    "* Show all shortcuts: `H`\n",
    "* Select cell above: `Up`\n",
    "* Select cell below: `Down`\n",
    "* Extend selected cells above: `Shift + Up`\n",
    "* Extend selected cells below: `Shift + Down`\n",
    "* Insert cell above: `A`\n",
    "* Insert cell below: `B`\n",
    "* Cut selected cells: `X`\n",
    "* Copy selected cells: `C`\n",
    "* Paste cells above: `Shift + V`\n",
    "* Paste cells below: `V`\n",
    "* Delete selected cells: `D, D` (press `D` key twice)\n",
    "* Undo deleting cell: `Z`\n",
    "* Save and checkpoint: `S`\n",
    "* Change to Code cell type: `Y`\n",
    "* Change to Markdown cell type: `M`\n",
    "* Scroll notebook up: `Shift + Space`\n",
    "* Scroll notebook down: `Space`\n",
    "\n",
    "\n",
    "#### Shortcuts while in Edit Mode\n",
    "Many of these are similar to other text editors because we are doing them in Edit Mode.\n",
    "* Code completion or indent: `Tab`\n",
    "* Indent: `Ctrl + ]`\n",
    "* Dedent: `Ctrl + [`\n",
    "* Select all: `Ctrl + A`\n",
    "* Undo: ` Ctrl + Z`\n",
    "* Redo: ` Ctrl + Y`\n",
    "* Go to left of line: `Ctrl + Left`\n",
    "* Go to right of line: `Ctrl + Right`\n",
    "* Move cursor down: `Down`\n",
    "* Move cursor up: `Up`\n",
    "\n",
    "There are other shortcuts that also exist, many of them are documented online as well as in the Jupyter Notebook documentation."
   ]
  },
  {
   "cell_type": "code",
   "execution_count": null,
   "metadata": {},
   "outputs": [],
   "source": []
  }
 ],
 "metadata": {
  "kernelspec": {
   "display_name": "Python 3",
   "language": "python",
   "name": "python3"
  },
  "language_info": {
   "codemirror_mode": {
    "name": "ipython",
    "version": 3
   },
   "file_extension": ".py",
   "mimetype": "text/x-python",
   "name": "python",
   "nbconvert_exporter": "python",
   "pygments_lexer": "ipython3",
   "version": "3.7.2"
  }
 },
 "nbformat": 4,
 "nbformat_minor": 2
}
